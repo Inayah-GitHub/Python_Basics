import math

### Direct computations

"""
This script reads 3 floating point numbers from the console, stores them in separate variables and then prints the result of 
                                                           ln((z+x/y) 
to the console. 
Inputs: 3 numbers 
Outputs: 1 number – ln(z+x/y)
"""
x = float(input())
y = float(input())
z = float(input())
a = (z + (x/y))
print(math.log(a))

""" 
This script reads 2 floating point numbers from the console and then prints their:
* Sum
* Difference
* Product  
as well as 
* Variable_1 to the power of Variable_2
* The square root of Variable_1
back. 
 
Inputs: 2 numbers from the console 
Outputs: 1 number to the console 
"""
Variable_1 = int(input())
Variable_2 = int(input())
# Summation 
print('sum = ', Variable_1 + Variable_2)
# Difference 
print('difference = ', abs(Variable_1 - Variable_2))
# Product
print('product = ', Variable_1*b)
# Powers
print('Variable_1 to the power of Variable_2 = ', Variable_1**Variable_2)
# Square root
print('The square root of Variable_1 = ', math.sqrt(Variable_1))

""" 
This function reads 2 floating point numbers from the console and then prints their difference.
Inputs: 2 numbers from the console 
Outputs: 1 number to the console 
"""

def f(num_1, num_2):
    return num_1-num_2
input_1 = float(input('Enter a number'))
input_2 = float(input('Enter a number'))
print(f(input_1, input_2))

### Shapes

"""
This code reads two floating point numbers from the console and stores them in variables side_1 and side_2. 
Assuming that s and c are the opposite and the adjacent sides to the angle, 
the code prints the angle (in degrees) and the length of the hypotenuse on separate lines. 

Inputs: two floating point numbers: side_1 and side_2 
Outputs: two floating point numbers: angle (in degrees) and the length of the hypotenuse
"""
side_1 = float(input())
side_2 = float(input())
hypot = math.hypot(side_1,side_2)
anglerad = math.acos((side_1**2 + side_2**2 - hypot**2)/2*side_1*side_2)
angle = (anglerad*180) / math.pi
print('hypot(side_1,side_2) : ', hypot)
print('angle', angle)

""" 
This function calculates the area of a rectangle. 
Inputs: The base and the height
Outputs: The area 
"""
def  rectangle_area(base, height):
    area = base*height
    print("The area is " + str(area))
