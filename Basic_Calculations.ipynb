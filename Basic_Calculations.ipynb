{
 "cells": [
  {
   "cell_type": "code",
   "execution_count": null,
   "metadata": {},
   "outputs": [],
   "source": [
    "import math"
   ]
  },
  {
   "cell_type": "code",
   "execution_count": null,
   "metadata": {},
   "outputs": [],
   "source": [
    "# Direct computations\n",
    "\"\"\"\n",
    "This script reads 3 floating point numbers from the console, stores them in separate variables and then prints the result of \n",
    "                                                           ln((z+x/y) \n",
    "to the console. \n",
    "Inputs: 3 numbers \n",
    "Outputs: 1 number – ln(z+x/y)\n",
    "\"\"\"\n",
    "\n",
    "x = float(input())\n",
    "y = float(input())\n",
    "z = float(input())\n",
    "a = (z + (x/y))\n",
    "print(math.log(a))"
   ]
  },
  {
   "cell_type": "code",
   "execution_count": null,
   "metadata": {},
   "outputs": [],
   "source": [
    "\"\"\" \n",
    "This script reads 2 floating point numbers from the console and then prints their:\n",
    "* Sum\n",
    "* Difference\n",
    "* Product  \n",
    "as well as \n",
    "* Variable_1 to the power of Variable_2\n",
    "* The square root of Variable_1\n",
    "back. \n",
    " \n",
    "Inputs: 2 numbers from the console \n",
    "Outputs: 1 number to the console \n",
    "\"\"\"\n",
    "Variable_1 = int(input())\n",
    "Variable_2 = int(input())\n",
    "# Summation \n",
    "print('sum = ', Variable_1 + Variable_2)\n",
    "# Difference \n",
    "print('difference = ', abs(Variable_1 - Variable_2))\n",
    "# Product\n",
    "print('product = ', Variable_1*b)\n",
    "# Powers\n",
    "print('Variable_1 to the power of Variable_2 = ', Variable_1**Variable_2)\n",
    "# Square root\n",
    "print('The square root of Variable_1 = ', math.sqrt(Variable_1))"
   ]
  },
  {
   "cell_type": "code",
   "execution_count": null,
   "metadata": {},
   "outputs": [],
   "source": [
    "\"\"\" \n",
    "This function reads 2 floating point numbers from the console and then prints their difference.\n",
    "Inputs: 2 numbers from the console \n",
    "Outputs: 1 number to the console \n",
    "\"\"\"\n",
    "\n",
    "def f(num_1, num_2):\n",
    "    return num_1-num_2\n",
    "input_1 = float(input('Enter a number'))\n",
    "input_2 = float(input('Enter a number'))\n",
    "print(f(input_1, input_2))"
   ]
  },
  {
   "cell_type": "code",
   "execution_count": null,
   "metadata": {},
   "outputs": [],
   "source": [
    "# Shapes\n",
    "\n",
    "\"\"\"\n",
    "This code reads two floating point numbers from the console and stores them in variables side_1 and side_2. \n",
    "Assuming that s and c are the opposite and the adjacent sides to the angle, \n",
    "the code prints the angle (in degrees) and the length of the hypotenuse on separate lines. \n",
    "\n",
    "Inputs: two floating point numbers: side_1 and side_2 \n",
    "Outputs: two floating point numbers: angle (in degrees) and the length of the hypotenuse\n",
    "\"\"\"\n",
    "side_1 = float(input())\n",
    "side_2 = float(input())\n",
    "hypot = math.hypot(side_1,side_2)\n",
    "anglerad = math.acos((side_1**2 + side_2**2 - hypot**2)/2*side_1*side_2)\n",
    "angle = (anglerad*180) / math.pi\n",
    "print('hypot(side_1,side_2) : ', hypot)\n",
    "print('angle', angle)"
   ]
  },
  {
   "cell_type": "code",
   "execution_count": null,
   "metadata": {},
   "outputs": [],
   "source": [
    "\"\"\" \n",
    "This function calculates the area of a rectangle. \n",
    "Inputs: The base and the height\n",
    "Outputs: The area \n",
    "\"\"\"\n",
    "def  rectangle_area(base, height):\n",
    "    area = base*height\n",
    "    print(\"The area is \" + str(area))"
   ]
  }
 ],
 "metadata": {
  "kernelspec": {
   "display_name": "Python 3",
   "language": "python",
   "name": "python3"
  },
  "language_info": {
   "codemirror_mode": {
    "name": "ipython",
    "version": 3
   },
   "file_extension": ".py",
   "mimetype": "text/x-python",
   "name": "python",
   "nbconvert_exporter": "python",
   "pygments_lexer": "ipython3",
   "version": "3.7.4"
  }
 },
 "nbformat": 4,
 "nbformat_minor": 2
}
